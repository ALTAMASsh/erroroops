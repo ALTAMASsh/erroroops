{
 "cells": [
  {
   "cell_type": "code",
   "execution_count": 5,
   "id": "5376135f-2834-4658-ae2a-9a7684113146",
   "metadata": {},
   "outputs": [],
   "source": [
    "#1\n",
    "class Bank_Account:\n",
    "    \n",
    "\t    def __init__(self,account_holder_name):\n",
    "\t\t    self.balance=0\n",
    "\t\t    print(\"Hello!!! Welcome to the Deposit & Withdrawal Machine\",account_holder_name)\n",
    "\n",
    "\t    def deposit(self):\n",
    "\t\t    amount=float(input(\"Enter amount to be Deposited: \"))\n",
    "\t\t    self.balance += amount\n",
    "\t\t    print(\"\\n Amount Deposited:\",amount)\n",
    "\n",
    "\t    def withdraw(self):\n",
    "\t\t    amount = float(input(\"Enter amount to be Withdrawn: \"))\n",
    "\t\t    if self.balance>=amount:\n",
    "\t\t\t    self.balance-=amount\n",
    "\t\t\t    print(\"\\n You Withdrew:\", amount)\n",
    "\t\t    else:\n",
    "\t\t\t    print(\"\\n Insufficient balance \")\n",
    "\n",
    "\t    def display(self):\n",
    "\t\t    print(\"\\n Available Balance=\",self.balance)"
   ]
  },
  {
   "cell_type": "code",
   "execution_count": 103,
   "id": "df81c280-864b-4452-b835-4bab124d4444",
   "metadata": {},
   "outputs": [
    {
     "name": "stdout",
     "output_type": "stream",
     "text": [
      "Hello!!! Welcome to the Deposit & Withdrawal Machine FAHRAN BHAI\n"
     ]
    },
    {
     "name": "stdin",
     "output_type": "stream",
     "text": [
      "Enter amount to be Deposited:  150000\n"
     ]
    },
    {
     "name": "stdout",
     "output_type": "stream",
     "text": [
      "\n",
      " Amount Deposited: 150000.0\n"
     ]
    },
    {
     "name": "stdin",
     "output_type": "stream",
     "text": [
      "Enter amount to be Withdrawn:  78898\n"
     ]
    },
    {
     "name": "stdout",
     "output_type": "stream",
     "text": [
      "\n",
      " You Withdrew: 78898.0\n",
      "\n",
      " Available Balance= 71102.0\n"
     ]
    }
   ],
   "source": [
    "s = Bank_Account(\"FAHRAN BHAI\")\n",
    "s.deposit()\n",
    "s.withdraw()\n",
    "s.display()"
   ]
  },
  {
   "cell_type": "code",
   "execution_count": 32,
   "id": "778996f7-87a4-41ac-abed-3dfb1d34afa3",
   "metadata": {},
   "outputs": [],
   "source": [
    "#2\n",
    "class Employ_managment:\n",
    "    def __init__(self,employ_id,employ_name,employ_salary,employ_yearly_bonous,employ_details):\n",
    "        self.E1= employ_id\n",
    "        self.E2= employ_name\n",
    "        self.E3= employ_salary\n",
    "        self.E4= employ_yearly_bonous\n",
    "        self.E5= employ_details\n",
    "    def employ_id(self):\n",
    "        print(\"Employ id is \",self.E1)\n",
    "    def  employ__name(self):\n",
    "        print(\"The Employ name is \",self.E2)\n",
    "    def  employ__salary(self):\n",
    "        print(\"Employ salary is \",self.E3)\n",
    "    def  employ_yeraly_bonous(self) :\n",
    "        print(\"the yeraly bonus of employ is\",self.E4)\n",
    "    def employ_details(self):\n",
    "        print(\"the detais about employ\",self.E5 )"
   ]
  },
  {
   "cell_type": "code",
   "execution_count": 35,
   "id": "b5a5f698-016f-4182-a239-804100795a41",
   "metadata": {},
   "outputs": [
    {
     "name": "stdout",
     "output_type": "stream",
     "text": [
      "the detais about employ smart boy\n"
     ]
    }
   ],
   "source": [
    "a = Employ_managment(3456,\"rehan\",345555,4387342,\"smart boy\")\n",
    "a.employ_details()"
   ]
  },
  {
   "cell_type": "code",
   "execution_count": 41,
   "id": "16078464-0121-4c0c-8110-2304b9b8e854",
   "metadata": {},
   "outputs": [],
   "source": [
    "#3\n",
    "class vehicle_rental_system:\n",
    "    def __init__(self,rent_vehical,return_a_vehicle,available_vehical):\n",
    "        \n",
    "        self.R1=rent_vehical\n",
    "        self.R2=return_a_vehicle\n",
    "        self.R3=available_vehical\n",
    "    \n",
    "    def rent_vehicle(self):\n",
    "        print(\" rant  vehicals\",self.R1)\n",
    "    def  return_a_vehical(self):\n",
    "        print(\" return  vehicals\",self.R2)\n",
    "    def available_vehical(self):\n",
    "        print(\"the available vehicals\",self.R1,self.R2,self.R3)"
   ]
  },
  {
   "cell_type": "code",
   "execution_count": null,
   "id": "6d5dadf5-897e-453b-a8ad-3c18e4cce904",
   "metadata": {},
   "outputs": [],
   "source": []
  },
  {
   "cell_type": "code",
   "execution_count": 42,
   "id": "9dcd4156-5e7a-4dc8-8a0a-70044c43017c",
   "metadata": {},
   "outputs": [],
   "source": [
    "#4\n",
    "class library_catlog:\n",
    "    def __init__(self,borrow_book,add_books,available_books):\n",
    "        \n",
    "        self.L1= borrow_book\n",
    "        self.L2= add_books\n",
    "        self.L3= available_books\n",
    "        \n",
    "    def borrow_book(self):\n",
    "        print(\"the borrow book name\",self.L1)\n",
    "    def  add_books(self) :\n",
    "        print(\"the name of add books in laibrary\",self.L2)\n",
    "    def available_books(self):\n",
    "        print(\"the available books name\",self.L1,self.L2,self.L3)"
   ]
  },
  {
   "cell_type": "code",
   "execution_count": 44,
   "id": "f6312d36-186d-45cd-a965-bc1f800a91cc",
   "metadata": {},
   "outputs": [
    {
     "name": "stdout",
     "output_type": "stream",
     "text": [
      "the name of add books in laibrary bible\n"
     ]
    }
   ],
   "source": [
    "l=library_catlog(\"geeta\",\"bible\",\"mahabharate\")\n",
    "l.add_books()"
   ]
  },
  {
   "cell_type": "code",
   "execution_count": 20,
   "id": "187acee3-3fd7-4669-af28-55bb759c3597",
   "metadata": {},
   "outputs": [],
   "source": [
    "#6\n",
    "class Inventory:\n",
    "    def __init__(self):\n",
    "        self.inventory = {}\n",
    "    def add_item(self,item_no,item_name,item_price) :\n",
    "        self.inventory[item_no] = {\"item_name\" : item_name,\"item_price\" : item_price}\n",
    "    def update_product(self,item_id,item_price):    \n",
    "        if item_no in self.inventory:\n",
    "            self.inventory[item_no][\"price\"] = item_price\n",
    "        else:\n",
    "            print(\"ITEM NOT FOUND IN INVENTORY\")\n",
    "    def display_available_product(self,item_no):\n",
    "        if item_no in self.inventory:\n",
    "            item = self.inventory[item_no]\n",
    "            return f\"Product Name: {item['item_name']}, Price: {item['price']}\"\n",
    "        else:\n",
    "            return \"item not found in inventory\""
   ]
  },
  {
   "cell_type": "code",
   "execution_count": 9,
   "id": "459ff0ec-2e49-43f7-9eb2-f1adf522845a",
   "metadata": {},
   "outputs": [
    {
     "data": {
      "text/plain": [
       "'Product Name: i phone, Price: 64000'"
      ]
     },
     "execution_count": 9,
     "metadata": {},
     "output_type": "execute_result"
    }
   ],
   "source": [
    "R = Inventory()\n",
    "R.add_item(765,\"i phone\",64000)\n",
    "R.display_available_product()"
   ]
  },
  {
   "cell_type": "code",
   "execution_count": 54,
   "id": "fd5d0ed2-4096-4ce7-b3c5-ae427164743e",
   "metadata": {},
   "outputs": [],
   "source": [
    "#7\n",
    "import math\n",
    "\n",
    "class Shape:\n",
    "    def calculate_area(self):\n",
    "        pass\n",
    "\n",
    "    def calculate_perimeter(self):\n",
    "        pass\n",
    "\n",
    "\n",
    "class Circle(Shape):\n",
    "    def __init__(self, radius):\n",
    "        self.radius = radius\n",
    "\n",
    "    def calculate_area(self):\n",
    "        return math.pi * self.radius**2\n",
    "\n",
    "    def calculate_perimeter(self):\n",
    "        return 2 * math.pi * self.radius\n",
    "\n",
    "\n",
    "class Rectangle(Shape):\n",
    "    def __init__(self, length, width):\n",
    "        self.length = length\n",
    "        self.width = width\n",
    "\n",
    "    def calculate_area(self):\n",
    "        return self.length * self.width\n",
    "\n",
    "    def calculate_perimeter(self):\n",
    "        return 2 * (self.length + self.width)\n",
    "\n",
    "\n",
    "class Triangle(Shape):\n",
    "    def __init__(self, base, height, side1, side2, side3):\n",
    "        self.base = base\n",
    "        self.height = height\n",
    "        self.side1 = side1\n",
    "        self.side2 = side2\n",
    "        self.side3 = side3\n",
    "    def  calculate_area(self):\n",
    "        return 0.5* self.base*self.height\n",
    "    def calculate_perimeter(self):\n",
    "        return self.side1 + self.side2 + self.side3"
   ]
  },
  {
   "cell_type": "markdown",
   "id": "96099f83-e61d-45ac-854f-a12eaef1dd65",
   "metadata": {},
   "source": [
    "Student Management Create a class representing a student with attributes like student ID, name, and grades. Implement methods to calculate the average grade and display student details.\n"
   ]
  },
  {
   "cell_type": "code",
   "execution_count": null,
   "id": "c711d7e0-48d6-4770-9208-3ffc144e4c71",
   "metadata": {},
   "outputs": [],
   "source": [
    "class Student:\n",
    "\tdef __init__(self, name, rollno, M1, m2):\n",
    "\t\tself.name = name\n",
    "\t\tself.rollno = rollno\n",
    "\t\tself.m1 = m1\n",
    "\t\tself.m2 = m2\n",
    "\n",
    "\t\n",
    "\tdef accept(self, Name, Rollno, marks1, marks2):\n",
    "\n",
    "\n",
    "\t\tob = Student(Name, Rollno, marks1, marks2)\n",
    "\t\tls.append(ob)\n",
    "\n",
    "\t\n",
    "\tdef display(self, ob):\n",
    "\t\tprint(\"Name : \", ob.name)\n",
    "\t\tprint(\"RollNo : \", ob.rollno)\n",
    "\t\tprint(\"Marks1 : \", ob.m1)\n",
    "\t\tprint(\"Marks2 : \", ob.m2)\n",
    "\t\tprint(\"\\n\")\n",
    "\n",
    "\t\n",
    "\tdef search(self, rn):\n",
    "\t\tfor i in range(ls.__len__()):\n",
    "\t\t\tif(ls[i].rollno == rn):\n",
    "\t\t\t\treturn i\n",
    "\n",
    "\t\n",
    "\tdef delete(self, rn):\n",
    "\t\ti = obj.search(rn)\n",
    "\t\tdel ls[i]\n",
    "\n",
    "\t\n",
    "\tdef update(self, rn, No):\n",
    "\t\ti = obj.search(rn)\n",
    "\t\troll = No\n",
    "\t\tls[i].rollno = roll\n",
    "\n",
    "\n",
    "ls = []\n",
    "\n",
    "obj = Student('', 0, 0, 0)\n",
    "\n",
    "print(\"\\nOperations used, \")\n",
    "print(\"\\n1.Accept Student details\\n2.Display Student Details\\n3.Search Details of a Student\\n4.Delete Details of Student\\n5.Update Student Details\\n6.Exit\")\n",
    "\n",
    "\n",
    "obj.accept(\"A\", 1, 100, 100)\n",
    "obj.accept(\"B\", 2, 90, 90)\n",
    "obj.accept(\"C\", 3, 80, 80)\n",
    "\n",
    "\n",
    "print(\"\\n\")\n",
    "print(\"\\nList of Students\\n\")\n",
    "for i in range(ls.__len__()):\n",
    "\tobj.display(ls[i])\n",
    "\n",
    "\n",
    "print(\"\\n Student Found, \")\n",
    "s = obj.search(2)\n",
    "obj.display(ls[s])\n",
    "\n",
    "\n",
    "obj.delete(2)\n",
    "print(ls.__len__())\n",
    "print(\"List after deletion\")\n",
    "for i in range(ls.__len__()):\n",
    "\tobj.display(ls[i])\n",
    "\n",
    "\n",
    "obj.update(3, 2)\n",
    "print(ls.__len__())\n",
    "print(\"List after updation\")\n",
    "for i in range(ls.__len__()):\n",
    "\tobj.display(ls[i])\n",
    "\n",
    "print(\"Thank You !\")\n"
   ]
  },
  {
   "cell_type": "markdown",
   "id": "9b79a2eb-d97c-4a79-8d98-e7c044a8a1fe",
   "metadata": {},
   "source": [
    "Email Management Create a class representing an email with attributes like sender, recipient, and subject. Implement methods to send an email and display email details.\n",
    "sorry i try but \n"
   ]
  },
  {
   "cell_type": "markdown",
   "id": "ea4f4b6f-65c9-4b9a-ad22-08a75bdec71a",
   "metadata": {},
   "source": [
    " Social Media Profile Create a class representing a social media profile with attributes like username and posts. Implement methods to add posts, display posts, and search for posts by keyword.\n"
   ]
  },
  {
   "cell_type": "code",
   "execution_count": 132,
   "id": "476f8234-8885-4e92-a890-9c30e6d775fb",
   "metadata": {},
   "outputs": [],
   "source": [
    "#9\n",
    "class social_media_profile:\n",
    "    def __init__(self,username,post):\n",
    "        R=self.posts = []\n",
    "        self.username = username\n",
    "        self.post = post\n",
    "    def username(self):\n",
    "        print(\"youre user name\",username)\n",
    "    def post(self):  \n",
    "        print(\"your post is \",post)\n",
    "    def add_posts(self,R):\n",
    "          print(\"your post is\",R)\n",
    "    def display(self):\n",
    "        print(self.add_posts(R))"
   ]
  },
  {
   "cell_type": "markdown",
   "id": "ad4c8e09-382e-4494-9606-ef6b15a2d6cf",
   "metadata": {},
   "source": [
    "ToDo List Create a class representing a ToDo list with attributes like tasks and due dates. Implement methods to add tasks, mark tasks as completed, and display pending tasks."
   ]
  },
  {
   "cell_type": "code",
   "execution_count": 126,
   "id": "d434e1f2-8027-44ef-b4d5-3cd2db77f9f5",
   "metadata": {},
   "outputs": [],
   "source": [
    "import sys\n",
    "import datetime\n",
    "class todo:\n",
    "\n",
    "    def add(self,y):\n",
    "        f = open('todo.txt', 'a')\n",
    "        f.write(y)\n",
    "        f.write(\"\\n\")\n",
    "        f.close()\n",
    "        y = '\"'+y+'\"'\n",
    "        print(f\"Added todo: {y}\")\n",
    "    def display(self):\n",
    "        try:\n",
    "            \n",
    "            nec()\n",
    "            l= len(d)\n",
    "            k = l\n",
    "            for i in d:\n",
    "                sys.stdout.buffer.write(f\"[{l}] {d[l]}\".encode('utf8'))\n",
    "                sys.stdout.buffer.write(\"\\n\".encode('utf8'))\n",
    "        except Exception as e:\n",
    "            raise e\n",
    "    def due(self,n):\n",
    "        try:\n",
    "            \n",
    "            nec()\n",
    "            n = int(n)\n",
    "            f = open(\"todo.txt\",\"a\")\n",
    "            str = 'x' + str(datetime.datetime.today()).split()[0]+'  '+d[n]\n",
    "            f.write(str)\n",
    "            f.write(\"\\n\")\n",
    "            f.close()\n",
    "            print(f\"Marked todo #{n} as done.\")\n",
    "                \n",
    "            with open(\"todo.txt\", \"r+\") as f:\n",
    "                l = f.readlines()\n",
    "            f.seek(0)\n",
    "             \n",
    "            for i in l:\n",
    "                if i.strip('\\n') != d[n]:\n",
    "                    f.write(i)\n",
    "            f.truncate()\n",
    "        except:\n",
    "            print(f\"Error: todo #{n} does not exist.\")"
   ]
  },
  {
   "cell_type": "code",
   "execution_count": 127,
   "id": "f648edf6-02c7-457e-a15f-956528f09ed2",
   "metadata": {},
   "outputs": [],
   "source": [
    "s = todo()\n"
   ]
  },
  {
   "cell_type": "code",
   "execution_count": 128,
   "id": "a5d87aff-6267-4b6a-83e6-2af5482fe5ab",
   "metadata": {},
   "outputs": [
    {
     "name": "stdout",
     "output_type": "stream",
     "text": [
      "Added todo: \"read\"\n",
      "Added todo: \"store\"\n",
      "Error: todo #read does not exist.\n"
     ]
    }
   ],
   "source": [
    "s.add(\"read\")\n",
    "s.add(\"store\")\n",
    "s.due(\"read\")"
   ]
  },
  {
   "cell_type": "code",
   "execution_count": null,
   "id": "7aa56fb4-de18-4070-b190-6a03d0bced49",
   "metadata": {},
   "outputs": [],
   "source": []
  }
 ],
 "metadata": {
  "kernelspec": {
   "display_name": "Python 3 (ipykernel)",
   "language": "python",
   "name": "python3"
  },
  "language_info": {
   "codemirror_mode": {
    "name": "ipython",
    "version": 3
   },
   "file_extension": ".py",
   "mimetype": "text/x-python",
   "name": "python",
   "nbconvert_exporter": "python",
   "pygments_lexer": "ipython3",
   "version": "3.10.8"
  }
 },
 "nbformat": 4,
 "nbformat_minor": 5
}
